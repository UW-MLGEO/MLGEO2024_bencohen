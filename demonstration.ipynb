{
 "cells": [
  {
   "cell_type": "code",
   "execution_count": null,
   "id": "4d1bda93-519f-443c-a2ed-49c475fd41dd",
   "metadata": {},
   "outputs": [],
   "source": [
    "# This notebook will demonstrate basic Python skills, including declaring\n",
    "# lists, NumPy arrays, declaring basic Python functions, and making simple\n",
    "# matplotlib figures which are then saved as a PNG"
   ]
  },
  {
   "cell_type": "code",
   "execution_count": null,
   "id": "5c53a96f-4c89-4abe-8b93-d5bf991a4ca2",
   "metadata": {},
   "outputs": [],
   "source": [
    "# Declaring a list\n",
    "print(\"I'm recalling the first 20 prime numbers...\")\n",
    "\n",
    "prime_numbers = [2, 3, 5, 7, 11, 13, 17, 19, 23, 29, 31, 37, 41, 43, 47, 53, 59, 61, 67, 71]\n",
    "\n",
    "print(prime_numbers)"
   ]
  },
  {
   "cell_type": "code",
   "execution_count": null,
   "id": "746d378d-bfbd-42d9-966f-7ee93677b9a4",
   "metadata": {},
   "outputs": [],
   "source": [
    "# Creating an array using NumPy\n",
    "import numpy as np\n",
    "\n",
    "# Create a 4x4 array with numbers from 1 to 16\n",
    "array_4x4 = np.arange(1, 17).reshape(4, 4)\n",
    "\n",
    "# Print the array\n",
    "print(array_4x4)"
   ]
  },
  {
   "cell_type": "code",
   "execution_count": null,
   "id": "fe5a804f-28bb-46f8-92d5-5aac5982776b",
   "metadata": {},
   "outputs": [],
   "source": [
    "# Defining and using a Python function\n",
    "def add_numbers(a, b):\n",
    "    return a + b\n",
    "\n",
    "result = add_numbers(10, 3)\n",
    "print(result)"
   ]
  },
  {
   "cell_type": "code",
   "execution_count": null,
   "id": "9b3b3077-4326-49f7-a6d5-bc26a7620fe9",
   "metadata": {},
   "outputs": [],
   "source": [
    "# Using matplotlib to create a graph and save it as PNG\n",
    "import matplotlib.pyplot as plt\n",
    "from mpl_toolkits.mplot3d.art3d import Poly3DCollection\n",
    "\n",
    "# Create figure and 3D axis\n",
    "fig = plt.figure()\n",
    "ax = fig.add_subplot(111, projection='3d')\n",
    "\n",
    "# Define the vertices of a cube\n",
    "vertices = [[0, 0, 0], [1, 0, 0], [1, 1, 0], [0, 1, 0],  # Bottom face\n",
    "            [0, 0, 1], [1, 0, 1], [1, 1, 1], [0, 1, 1]]  # Top face\n",
    "\n",
    "# Define the 6 faces of the cube\n",
    "faces = [[vertices[j] for j in [0, 1, 2, 3]],  # Bottom face\n",
    "             [vertices[j] for j in [4, 5, 6, 7]],  # Top face\n",
    "             [vertices[j] for j in [0, 3, 7, 4]],  # Left face\n",
    "             [vertices[j] for j in [1, 2, 6, 5]],  # Right face\n",
    "             [vertices[j] for j in [0, 1, 5, 4]],  # Front face\n",
    "             [vertices[j] for j in [2, 3, 7, 6]]]  # Back face\n",
    "\n",
    "# Plot the faces of the cube\n",
    "ax.add_collection3d(Poly3DCollection(faces, facecolors='cyan', linewidths=1, edgecolors='r', alpha=.25))\n",
    "\n",
    "# Set the axes limits\n",
    "ax.set_xlim([0, 1])\n",
    "ax.set_ylim([0, 1])\n",
    "ax.set_zlim([0, 1])\n",
    "\n",
    "# Set the labels for the axes\n",
    "ax.set_xlabel('X')\n",
    "ax.set_ylabel('Y')\n",
    "ax.set_zlabel('Z')\n",
    "\n",
    "# Set title\n",
    "plt.title('3D Cube')\n",
    "\n",
    "# Save the plot as a png\n",
    "plt.savefig('3d_cube.png')\n",
    "\n",
    "# Show the plot\n",
    "plt.show()  "
   ]
  },
  {
   "cell_type": "code",
   "execution_count": null,
   "id": "b4d733a6-3def-4a81-be1f-2e2500935c96",
   "metadata": {},
   "outputs": [],
   "source": []
  }
 ],
 "metadata": {
  "kernelspec": {
   "display_name": "Python 3 (ipykernel)",
   "language": "python",
   "name": "python3"
  },
  "language_info": {
   "codemirror_mode": {
    "name": "ipython",
    "version": 3
   },
   "file_extension": ".py",
   "mimetype": "text/x-python",
   "name": "python",
   "nbconvert_exporter": "python",
   "pygments_lexer": "ipython3",
   "version": "3.12.4"
  }
 },
 "nbformat": 4,
 "nbformat_minor": 5
}
